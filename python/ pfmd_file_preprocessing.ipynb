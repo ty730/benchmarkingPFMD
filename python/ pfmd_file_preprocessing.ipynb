{
 "cells": [
  {
   "cell_type": "code",
   "execution_count": 1,
   "id": "c0efcec7",
   "metadata": {},
   "outputs": [],
   "source": [
    "import pandas as pd\n",
    "import numpy as np\n",
    "import os\n",
    "import matplotlib.pyplot as plt\n",
    "PATH_TO_DATA = \"../pfmdData/data\"\n",
    "PATH_TO_GROUND_TRUTH = \"../pfmdData/ground_truth_values.csv\""
   ]
  },
  {
   "cell_type": "code",
   "execution_count": 2,
   "id": "3a79cbbc",
   "metadata": {},
   "outputs": [],
   "source": [
    "# Load file names\n",
    "ground_truth = pd.read_csv(PATH_TO_GROUND_TRUTH, index_col=0)\n",
    "names = np.array(ground_truth.index)"
   ]
  },
  {
   "cell_type": "markdown",
   "id": "72aafb22",
   "metadata": {},
   "source": [
    "## Check duplicated file name"
   ]
  },
  {
   "cell_type": "code",
   "execution_count": 10,
   "id": "c8a3d3a6",
   "metadata": {},
   "outputs": [],
   "source": [
    "def check_duplicates(names):\n",
    "    #Searches for duplicate element  \n",
    "    test = True\n",
    "    for i in range(0, len(names)):    \n",
    "        for j in range(i+1, len(names)):   \n",
    "            if(names[i] == names[j]):    \n",
    "                print(\"Duplicate elements in given array: \")\n",
    "                print(names[j])\n",
    "                print(\"Duplicated indices\")\n",
    "                print(i,j)\n",
    "                check_duplicates(names)\n",
    "                test = False\n",
    "    if test:\n",
    "        print(\"----- no duplicated file names -----\")\n",
    "    "
   ]
  },
  {
   "cell_type": "code",
   "execution_count": 11,
   "id": "0c8ad597",
   "metadata": {},
   "outputs": [
    {
     "name": "stdout",
     "output_type": "stream",
     "text": [
      "----- no duplicated file names -----\n"
     ]
    }
   ],
   "source": [
    "check_duplicates(names)"
   ]
  },
  {
   "cell_type": "markdown",
   "id": "c5d32f1b",
   "metadata": {},
   "source": [
    "## Check all files exists\n",
    "The code section below checks if all files in the `ground_truth_values.csv` files exists in the data folder"
   ]
  },
  {
   "cell_type": "code",
   "execution_count": 13,
   "id": "bebb1eac",
   "metadata": {},
   "outputs": [],
   "source": [
    "folder = ''\n",
    "missing = False\n",
    "# read data_files into a dictionary\n",
    "folders = os.listdir(PATH_TO_DATA)\n",
    "for file_name in ground_truth.index:\n",
    "#     print(file_name)\n",
    "    temp = ground_truth.loc[file_name, 'name']\n",
    "    temp = temp.split(\"_\")\n",
    "    session = temp[0]\n",
    "    for i in range(1,len(temp)-1):\n",
    "        session = session + '_' + temp[i] \n",
    "#     print('Current track case:  ', session)\n",
    "    # go into a folder and check if all tracks in that folder\n",
    "    try:\n",
    "        file_list = os.listdir(PATH_TO_DATA + '/' + session)\n",
    "        if file_name not in file_list:\n",
    "            print(\"missing file: \", file_name)\n",
    "            print(\"corresponding track: \", ground_truth.loc[file_name, 'name'])\n",
    "            missing = True\n",
    "    except:\n",
    "        if(folder != session):\n",
    "            print(\"\\n------directory not exist: \", session, \"------\\n\")\n",
    "        folder = session\n",
    "if not missing:\n",
    "    print(\"-----no file missing-----\")"
   ]
  },
  {
   "cell_type": "code",
   "execution_count": null,
   "id": "8c7a1b7e",
   "metadata": {},
   "outputs": [],
   "source": []
  }
 ],
 "metadata": {
  "kernelspec": {
   "display_name": "Python 3",
   "language": "python",
   "name": "python3"
  },
  "language_info": {
   "codemirror_mode": {
    "name": "ipython",
    "version": 3
   },
   "file_extension": ".py",
   "mimetype": "text/x-python",
   "name": "python",
   "nbconvert_exporter": "python",
   "pygments_lexer": "ipython3",
   "version": "3.7.6"
  }
 },
 "nbformat": 4,
 "nbformat_minor": 5
}
