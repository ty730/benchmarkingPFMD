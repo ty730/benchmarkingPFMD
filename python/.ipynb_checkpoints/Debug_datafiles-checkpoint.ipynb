{
 "cells": [
  {
   "cell_type": "code",
   "execution_count": 1,
   "id": "c0efcec7",
   "metadata": {},
   "outputs": [],
   "source": [
    "import pandas as pd\n",
    "import numpy as np\n",
    "import os\n",
    "import matplotlib.pyplot as plt\n",
    "PATH_TO_DATA = \"../pfmdData/data_heatMap_3D\"\n",
    "PATH_TO_GROUND_TRUTH = \"../pfmdData/ground_truth_values.csv\""
   ]
  },
  {
   "cell_type": "code",
   "execution_count": 2,
   "id": "3a79cbbc",
   "metadata": {},
   "outputs": [],
   "source": [
    "# Load file names\n",
    "ground_truth = pd.read_csv(PATH_TO_GROUND_TRUTH, index_col=0)\n",
    "names = np.array(ground_truth.index)"
   ]
  },
  {
   "cell_type": "markdown",
   "id": "72aafb22",
   "metadata": {},
   "source": [
    "## Check duplicated file name"
   ]
  },
  {
   "cell_type": "code",
   "execution_count": 3,
   "id": "c8a3d3a6",
   "metadata": {},
   "outputs": [],
   "source": [
    "#Searches for duplicate element    \n",
    "for i in range(0, len(names)):    \n",
    "    for j in range(i+1, len(names)):   \n",
    "        if(names[i] == names[j]):    \n",
    "            print(\"Duplicate elements in given array: \")\n",
    "            print(names[j])\n",
    "            print(\"Duplicated indices\")\n",
    "            print(i,j)"
   ]
  },
  {
   "cell_type": "markdown",
   "id": "c5d32f1b",
   "metadata": {},
   "source": [
    "## Check all files exists"
   ]
  },
  {
   "cell_type": "code",
   "execution_count": 4,
   "id": "bebb1eac",
   "metadata": {},
   "outputs": [
    {
     "name": "stdout",
     "output_type": "stream",
     "text": [
      "done: no file missing\n"
     ]
    }
   ],
   "source": [
    "folder = ''\n",
    "# read data_files into a dictionary\n",
    "folders = os.listdir(PATH_TO_DATA)\n",
    "for file_name in ground_truth.index:\n",
    "#     print(file_name)\n",
    "    temp = ground_truth.loc[file_name, 'name']\n",
    "#     print(temp)\n",
    "    temp = temp.split(\"_\")\n",
    "    session = temp[0]\n",
    "    for i in range(1,len(temp)-1):\n",
    "        session = session + '_' + temp[i] \n",
    "#     print('Current track case:  ', session)\n",
    "    # go into a folder and check if all tracks in that folder\n",
    "    try:\n",
    "        file_list = os.listdir(PATH_TO_DATA + '/' + session)\n",
    "        if file_name not in file_list:\n",
    "            print(\"missing file: \", file_name)\n",
    "            print(\"corresponding track: \", ground_truth.loc[file_name, 'name'])\n",
    "    except:\n",
    "        if(folder != session):\n",
    "            print(\"\\n---------directory not exist: \", session)\n",
    "            print()\n",
    "        folder = session\n",
    "\n",
    "print(\"done: no file missing\")"
   ]
  },
  {
   "cell_type": "code",
   "execution_count": 8,
   "id": "501ee6bc",
   "metadata": {},
   "outputs": [
    {
     "name": "stdout",
     "output_type": "stream",
     "text": [
      "added new session key:  z_up \n",
      "\n",
      "added new session key:  z_far \n",
      "\n",
      "added new session key:  z_up_flipped \n",
      "\n",
      "added new session key:  z_right \n",
      "\n",
      "added new session key:  z_left \n",
      "\n",
      "added new session key:  z_down \n",
      "\n",
      "added new session key:  z_neardown \n",
      "\n",
      "added new session key:  z_nearup \n",
      "\n",
      "added new session key:  z_upagain \n",
      "\n",
      "----done----\n"
     ]
    }
   ],
   "source": [
    "data = {}\n",
    "# read data_files into a dictionary\n",
    "ground_truth = pd.read_csv(PATH_TO_GROUND_TRUTH, index_col=0)\n",
    "for file_name in ground_truth.index:\n",
    "#     print(file_name)\n",
    "    # get file name here: convert \".csv\" to track name\n",
    "    temp0 = ground_truth.loc[file_name, 'name']\n",
    "    \n",
    "    # get z_measured by human\n",
    "    truth = ground_truth.loc[file_name, 'ground_truth']\n",
    "    \n",
    "    # extract the session name\n",
    "    temp1 = temp0.split(\"_\")\n",
    "    \n",
    "    # convert into the track_\n",
    "    session = temp1[0]\n",
    "    for i in range(1,len(temp1)-1):\n",
    "        session = session + '_' + temp1[i] \n",
    "    \n",
    "    # read track data\n",
    "    track = pd.read_csv(PATH_TO_DATA + '/' + session + '/' + file_name)\n",
    "    \n",
    "    # Find the ground truth axis\n",
    "    axis = temp1[0] + '_cm'\n",
    "    \n",
    "    # Create a column of error from ground truth\n",
    "    track['truth_err'] = abs(track[axis] - (truth*100))\n",
    "    track['z_measured'] = truth*100\n",
    "    if session not in data:\n",
    "        print(\"added new session key: \", session, '\\n')\n",
    "        # offset_index is used to make all session start at index 1\n",
    "        if temp1[-1] != 1:\n",
    "            offset_index = int(temp1[-1]) - 1\n",
    "        else:\n",
    "            offset_index = 0\n",
    "        \n",
    "        data[session] = {}\n",
    "    temp3 = session + \"_\" + str(int(temp1[-1]) - offset_index)\n",
    "    data[session][temp3]= track\n",
    "\n",
    "#         print(\"added new track: \", temp0)\n",
    "print(\"----done----\")\n",
    "# for folder in os.listdir(PATH_TO_DATA):\n",
    "#     print(\"current\", folder,\"length: \",len(data[folder]))\n",
    "#     print(\"dict keys: \", data[folder].keys(), \"\\n\")"
   ]
  },
  {
   "cell_type": "code",
   "execution_count": 9,
   "id": "88ba3ffa",
   "metadata": {},
   "outputs": [
    {
     "data": {
      "text/plain": [
       "dict_keys(['z_neardown_1', 'z_neardown_2', 'z_neardown_3', 'z_neardown_4', 'z_neardown_5', 'z_neardown_6', 'z_neardown_7', 'z_neardown_8', 'z_neardown_9', 'z_neardown_10', 'z_neardown_11', 'z_neardown_12', 'z_neardown_13', 'z_neardown_14', 'z_neardown_15', 'z_neardown_16', 'z_neardown_17', 'z_neardown_18', 'z_neardown_19', 'z_neardown_20', 'z_neardown_21', 'z_neardown_22', 'z_neardown_23', 'z_neardown_24', 'z_neardown_25', 'z_neardown_26', 'z_neardown_27', 'z_neardown_28'])"
      ]
     },
     "execution_count": 9,
     "metadata": {},
     "output_type": "execute_result"
    }
   ],
   "source": [
    "data[\"z_neardown\"].keys()"
   ]
  }
 ],
 "metadata": {
  "kernelspec": {
   "display_name": "Python 3",
   "language": "python",
   "name": "python3"
  },
  "language_info": {
   "codemirror_mode": {
    "name": "ipython",
    "version": 3
   },
   "file_extension": ".py",
   "mimetype": "text/x-python",
   "name": "python",
   "nbconvert_exporter": "python",
   "pygments_lexer": "ipython3",
   "version": "3.7.6"
  }
 },
 "nbformat": 4,
 "nbformat_minor": 5
}
