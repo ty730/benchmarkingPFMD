{
 "cells": [
  {
   "cell_type": "code",
   "execution_count": 8,
   "id": "c0efcec7",
   "metadata": {},
   "outputs": [],
   "source": [
    "import pandas as pd\n",
    "import numpy as np\n",
    "import os\n",
    "import matplotlib.pyplot as plt\n",
    "PATH_TO_DATA = \"../pfmdData/data_heatMap_3D\"\n",
    "PATH_TO_GROUND_TRUTH = \"../pfmdData/ground_truth_values.csv\""
   ]
  },
  {
   "cell_type": "code",
   "execution_count": 9,
   "id": "3a79cbbc",
   "metadata": {},
   "outputs": [],
   "source": [
    "# Load file names\n",
    "ground_truth = pd.read_csv(PATH_TO_GROUND_TRUTH, index_col=0)\n",
    "names = np.array(ground_truth.index)"
   ]
  },
  {
   "cell_type": "markdown",
   "id": "72aafb22",
   "metadata": {},
   "source": [
    "## Check duplicated file name"
   ]
  },
  {
   "cell_type": "code",
   "execution_count": 10,
   "id": "c8a3d3a6",
   "metadata": {},
   "outputs": [],
   "source": [
    "#Searches for duplicate element    \n",
    "for i in range(0, len(names)):    \n",
    "    for j in range(i+1, len(names)):   \n",
    "        if(names[i] == names[j]):    \n",
    "            print(\"Duplicate elements in given array: \")\n",
    "            print(names[j])\n",
    "            print(\"Duplicated indices\")\n",
    "            print(i,j)"
   ]
  },
  {
   "cell_type": "markdown",
   "id": "c5d32f1b",
   "metadata": {},
   "source": [
    "## Check all files exists"
   ]
  },
  {
   "cell_type": "code",
   "execution_count": 11,
   "id": "bebb1eac",
   "metadata": {},
   "outputs": [
    {
     "name": "stdout",
     "output_type": "stream",
     "text": [
      "done: no file missing\n"
     ]
    }
   ],
   "source": [
    "folder = ''\n",
    "# read data_files into a dictionary\n",
    "folders = os.listdir(PATH_TO_DATA)\n",
    "for file_name in ground_truth.index:\n",
    "#     print(file_name)\n",
    "    temp = ground_truth.loc[file_name, 'name']\n",
    "#     print(temp)\n",
    "    temp = temp.split(\"_\")\n",
    "    session = temp[0]\n",
    "    for i in range(1,len(temp)-1):\n",
    "        session = session + '_' + temp[i] \n",
    "#     print('Current track case:  ', session)\n",
    "    # go into a folder and check if all tracks in that folder\n",
    "    try:\n",
    "        file_list = os.listdir(PATH_TO_DATA + '/' + session)\n",
    "        if file_name not in file_list:\n",
    "            print(\"missing file: \", file_name)\n",
    "            print(\"corresponding track: \", ground_truth.loc[file_name, 'name'])\n",
    "    except:\n",
    "        if(folder != session):\n",
    "            print(\"\\n---------directory not exist: \", session)\n",
    "            print()\n",
    "        folder = session\n",
    "\n",
    "print(\"done: no file missing\")"
   ]
  },
  {
   "cell_type": "markdown",
   "id": "41a48461",
   "metadata": {},
   "source": [
    "`Fixed file name numbers (always start from subscript 1)`"
   ]
  },
  {
   "cell_type": "code",
   "execution_count": 6,
   "id": "501ee6bc",
   "metadata": {},
   "outputs": [
    {
     "name": "stdout",
     "output_type": "stream",
     "text": [
      "added new session key:  z_up \n",
      "\n",
      "added new session key:  z_far \n",
      "\n",
      "added new session key:  z_up_flipped \n",
      "\n",
      "added new session key:  z_right \n",
      "\n",
      "added new session key:  z_left \n",
      "\n",
      "added new session key:  z_down \n",
      "\n",
      "added new session key:  z_neardown \n",
      "\n",
      "added new session key:  z_nearup \n",
      "\n",
      "added new session key:  z_upagain \n",
      "\n",
      "added new session key:  z_00 \n",
      "\n",
      "added new session key:  x_center \n",
      "\n",
      "added new session key:  x_right \n",
      "\n",
      "----done----\n"
     ]
    }
   ],
   "source": [
    "data = {}\n",
    "# read data_files into a dictionary\n",
    "ground_truth = pd.read_csv(PATH_TO_GROUND_TRUTH, index_col=0)\n",
    "for file_name in ground_truth.index:\n",
    "#     print(file_name)\n",
    "    # get file name here: convert \".csv\" to track name\n",
    "    temp0 = ground_truth.loc[file_name, 'name']\n",
    "    \n",
    "    \n",
    "    # extract the session name\n",
    "    temp1 = temp0.split(\"_\")\n",
    "    \n",
    "    # convert into the track_\n",
    "    session = temp1[0]\n",
    "    for i in range(1,len(temp1)-1):\n",
    "        session = session + '_' + temp1[i] \n",
    "    \n",
    "    # read track data\n",
    "    track = pd.read_csv(PATH_TO_DATA + '/' + session + '/' + file_name)\n",
    "    \n",
    "    # Find the ground truth axis\n",
    "    axis = temp1[0] + '_cm'\n",
    "    \n",
    "    # Create a column of error from ground truth\n",
    "    truth = ground_truth.loc[file_name, 'ground_truth'] # get z_measured by human\n",
    "    track['truth_err'] = abs(track[axis] - (truth*100))\n",
    "    track['z_measured'] = truth*100\n",
    "    \n",
    "    # creating dictionary\n",
    "    if session not in data:\n",
    "        print(\"added new session key: \", session, '\\n')\n",
    "        # offset_index: used to make all session start at index 1\n",
    "        if temp1[-1] != 1:\n",
    "            offset_index = int(temp1[-1]) - 1\n",
    "        else:\n",
    "            offset_index = 0\n",
    "        \n",
    "        data[session] = {}\n",
    "    temp3 = session + \"_\" + str(int(temp1[-1]) - offset_index)\n",
    "    data[session][temp3]= track\n",
    "\n",
    "#         print(\"added new track: \", temp0)\n",
    "print(\"----done----\")\n"
   ]
  },
  {
   "cell_type": "code",
   "execution_count": 7,
   "id": "c68ac8c9",
   "metadata": {},
   "outputs": [
    {
     "name": "stdout",
     "output_type": "stream",
     "text": [
      "current x_center length:  38\n",
      "dict keys:  dict_keys(['x_center_1', 'x_center_2', 'x_center_3', 'x_center_4', 'x_center_5', 'x_center_6', 'x_center_7', 'x_center_8', 'x_center_9', 'x_center_10', 'x_center_11', 'x_center_12', 'x_center_13', 'x_center_14', 'x_center_15', 'x_center_16', 'x_center_17', 'x_center_18', 'x_center_19', 'x_center_20', 'x_center_21', 'x_center_22', 'x_center_23', 'x_center_24', 'x_center_25', 'x_center_26', 'x_center_27', 'x_center_28', 'x_center_29', 'x_center_30', 'x_center_31', 'x_center_32', 'x_center_33', 'x_center_34', 'x_center_35', 'x_center_36', 'x_center_37', 'x_center_38']) \n",
      "\n",
      "current x_right length:  20\n",
      "dict keys:  dict_keys(['x_right_1', 'x_right_2', 'x_right_7', 'x_right_8', 'x_right_9', 'x_right_10', 'x_right_16', 'x_right_17', 'x_right_18', 'x_right_19', 'x_right_20', 'x_right_21', 'x_right_22', 'x_right_23', 'x_right_24', 'x_right_25', 'x_right_26', 'x_right_27', 'x_right_28', 'x_right_29']) \n",
      "\n",
      "current z_00 length:  24\n",
      "dict keys:  dict_keys(['z_00_1', 'z_00_2', 'z_00_3', 'z_00_4', 'z_00_5', 'z_00_6', 'z_00_7', 'z_00_8', 'z_00_9', 'z_00_10', 'z_00_11', 'z_00_12', 'z_00_13', 'z_00_14', 'z_00_15', 'z_00_16', 'z_00_17', 'z_00_18', 'z_00_19', 'z_00_20', 'z_00_21', 'z_00_22', 'z_00_23', 'z_00_24']) \n",
      "\n",
      "current z_down length:  25\n",
      "dict keys:  dict_keys(['z_down_1', 'z_down_2', 'z_down_3', 'z_down_4', 'z_down_5', 'z_down_6', 'z_down_7', 'z_down_8', 'z_down_9', 'z_down_10', 'z_down_11', 'z_down_12', 'z_down_13', 'z_down_14', 'z_down_15', 'z_down_16', 'z_down_17', 'z_down_18', 'z_down_19', 'z_down_20', 'z_down_21', 'z_down_22', 'z_down_23', 'z_down_24', 'z_down_25']) \n",
      "\n",
      "current z_far length:  25\n",
      "dict keys:  dict_keys(['z_far_1', 'z_far_2', 'z_far_3', 'z_far_4', 'z_far_5', 'z_far_6', 'z_far_7', 'z_far_8', 'z_far_9', 'z_far_10', 'z_far_11', 'z_far_12', 'z_far_13', 'z_far_14', 'z_far_15', 'z_far_16', 'z_far_17', 'z_far_18', 'z_far_19', 'z_far_20', 'z_far_21', 'z_far_22', 'z_far_23', 'z_far_24', 'z_far_25']) \n",
      "\n",
      "current z_left length:  25\n",
      "dict keys:  dict_keys(['z_left_1', 'z_left_2', 'z_left_3', 'z_left_4', 'z_left_5', 'z_left_6', 'z_left_7', 'z_left_8', 'z_left_9', 'z_left_10', 'z_left_11', 'z_left_12', 'z_left_13', 'z_left_14', 'z_left_15', 'z_left_16', 'z_left_17', 'z_left_18', 'z_left_19', 'z_left_20', 'z_left_21', 'z_left_22', 'z_left_23', 'z_left_24', 'z_left_25']) \n",
      "\n",
      "current z_neardown length:  28\n",
      "dict keys:  dict_keys(['z_neardown_1', 'z_neardown_2', 'z_neardown_3', 'z_neardown_4', 'z_neardown_5', 'z_neardown_6', 'z_neardown_7', 'z_neardown_8', 'z_neardown_9', 'z_neardown_10', 'z_neardown_11', 'z_neardown_12', 'z_neardown_13', 'z_neardown_14', 'z_neardown_15', 'z_neardown_16', 'z_neardown_17', 'z_neardown_18', 'z_neardown_19', 'z_neardown_20', 'z_neardown_21', 'z_neardown_22', 'z_neardown_23', 'z_neardown_24', 'z_neardown_25', 'z_neardown_26', 'z_neardown_27', 'z_neardown_28']) \n",
      "\n",
      "current z_nearup length:  6\n",
      "dict keys:  dict_keys(['z_nearup_1', 'z_nearup_2', 'z_nearup_3', 'z_nearup_4', 'z_nearup_5', 'z_nearup_6']) \n",
      "\n",
      "current z_right length:  45\n",
      "dict keys:  dict_keys(['z_right_1', 'z_right_2', 'z_right_3', 'z_right_4', 'z_right_5', 'z_right_6', 'z_right_7', 'z_right_8', 'z_right_9', 'z_right_10', 'z_right_11', 'z_right_12', 'z_right_13', 'z_right_14', 'z_right_15', 'z_right_16', 'z_right_17', 'z_right_18', 'z_right_19', 'z_right_20', 'z_right_21', 'z_right_22', 'z_right_23', 'z_right_24', 'z_right_25', 'z_right_26', 'z_right_27', 'z_right_28', 'z_right_29', 'z_right_30', 'z_right_31', 'z_right_32', 'z_right_33', 'z_right_34', 'z_right_35', 'z_right_36', 'z_right_37', 'z_right_38', 'z_right_39', 'z_right_40', 'z_right_41', 'z_right_42', 'z_right_43', 'z_right_44', 'z_right_45']) \n",
      "\n",
      "current z_up length:  30\n",
      "dict keys:  dict_keys(['z_up_1', 'z_up_2', 'z_up_3', 'z_up_4', 'z_up_5', 'z_up_6', 'z_up_7', 'z_up_8', 'z_up_9', 'z_up_10', 'z_up_11', 'z_up_12', 'z_up_13', 'z_up_14', 'z_up_15', 'z_up_16', 'z_up_17', 'z_up_18', 'z_up_19', 'z_up_20', 'z_up_21', 'z_up_22', 'z_up_23', 'z_up_24', 'z_up_25', 'z_up_26', 'z_up_27', 'z_up_28', 'z_up_29', 'z_up_30']) \n",
      "\n",
      "current z_upagain length:  41\n",
      "dict keys:  dict_keys(['z_upagain_1', 'z_upagain_2', 'z_upagain_3', 'z_upagain_4', 'z_upagain_5', 'z_upagain_6', 'z_upagain_7', 'z_upagain_8', 'z_upagain_9', 'z_upagain_10', 'z_upagain_11', 'z_upagain_12', 'z_upagain_13', 'z_upagain_14', 'z_upagain_15', 'z_upagain_16', 'z_upagain_17', 'z_upagain_18', 'z_upagain_19', 'z_upagain_20', 'z_upagain_21', 'z_upagain_22', 'z_upagain_23', 'z_upagain_24', 'z_upagain_25', 'z_upagain_26', 'z_upagain_27', 'z_upagain_28', 'z_upagain_29', 'z_upagain_30', 'z_upagain_31', 'z_upagain_32', 'z_upagain_33', 'z_upagain_34', 'z_upagain_35', 'z_upagain_36', 'z_upagain_37', 'z_upagain_38', 'z_upagain_39', 'z_upagain_40', 'z_upagain_41']) \n",
      "\n",
      "current z_up_flipped length:  16\n",
      "dict keys:  dict_keys(['z_up_flipped_1', 'z_up_flipped_2', 'z_up_flipped_3', 'z_up_flipped_4', 'z_up_flipped_5', 'z_up_flipped_6', 'z_up_flipped_7', 'z_up_flipped_8', 'z_up_flipped_9', 'z_up_flipped_10', 'z_up_flipped_11', 'z_up_flipped_12', 'z_up_flipped_13', 'z_up_flipped_14', 'z_up_flipped_15', 'z_up_flipped_16']) \n",
      "\n"
     ]
    }
   ],
   "source": [
    "for folder in os.listdir(PATH_TO_DATA):\n",
    "    print(\"current\", folder,\"length: \",len(data[folder]))\n",
    "    print(\"dict keys: \", data[folder].keys(), \"\\n\")"
   ]
  },
  {
   "cell_type": "code",
   "execution_count": 15,
   "id": "88ba3ffa",
   "metadata": {},
   "outputs": [
    {
     "data": {
      "text/plain": [
       "dict_keys(['z_neardown_1', 'z_neardown_2', 'z_neardown_3', 'z_neardown_4', 'z_neardown_5', 'z_neardown_6', 'z_neardown_7', 'z_neardown_8', 'z_neardown_9', 'z_neardown_10', 'z_neardown_11', 'z_neardown_12', 'z_neardown_13', 'z_neardown_14', 'z_neardown_15', 'z_neardown_16', 'z_neardown_17', 'z_neardown_18', 'z_neardown_19', 'z_neardown_20', 'z_neardown_21', 'z_neardown_22', 'z_neardown_23', 'z_neardown_24', 'z_neardown_25', 'z_neardown_26', 'z_neardown_27', 'z_neardown_28'])"
      ]
     },
     "execution_count": 15,
     "metadata": {},
     "output_type": "execute_result"
    }
   ],
   "source": [
    "data[\"z_neardown\"].keys()"
   ]
  },
  {
   "cell_type": "code",
   "execution_count": 8,
   "id": "a586c382",
   "metadata": {},
   "outputs": [],
   "source": [
    "def check_track_num(track_data): \n",
    "    '''\n",
    "    Checks the number of track id's in the data file\n",
    "    prints out the \n",
    "    track_data: the pandas data frame of the single track\n",
    "    '''\n",
    "    return len(track_data[~track_data.duplicated(\"id\")]['id'].values)\n",
    "    "
   ]
  }
 ],
 "metadata": {
  "kernelspec": {
   "display_name": "Python 3",
   "language": "python",
   "name": "python3"
  },
  "language_info": {
   "codemirror_mode": {
    "name": "ipython",
    "version": 3
   },
   "file_extension": ".py",
   "mimetype": "text/x-python",
   "name": "python",
   "nbconvert_exporter": "python",
   "pygments_lexer": "ipython3",
   "version": "3.7.6"
  }
 },
 "nbformat": 4,
 "nbformat_minor": 5
}
