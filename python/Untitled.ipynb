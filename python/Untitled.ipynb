{
 "cells": [
  {
   "cell_type": "code",
   "execution_count": 3,
   "id": "52e30f88",
   "metadata": {},
   "outputs": [],
   "source": [
    "# from google.colab import drive\n",
    "import pandas as pd\n",
    "import numpy as np\n",
    "import os\n",
    "import matplotlib.pyplot as plt"
   ]
  },
  {
   "cell_type": "code",
   "execution_count": null,
   "id": "70418f55",
   "metadata": {},
   "outputs": [],
   "source": [
    "PATH_TO_DATA = '/content/gdrive/Shared with me/pfmd_data'\n",
    "PATH_TO_GROUND_TRUTH = '/content/gdrive/Shared with me/pfmd_data/ground_truth_values'"
   ]
  },
  {
   "cell_type": "code",
   "execution_count": 2,
   "id": "6ba76289",
   "metadata": {},
   "outputs": [
    {
     "ename": "IndentationError",
     "evalue": "expected an indented block (<ipython-input-2-020d1df2c325>, line 26)",
     "output_type": "error",
     "traceback": [
      "\u001b[1;36m  File \u001b[1;32m\"<ipython-input-2-020d1df2c325>\"\u001b[1;36m, line \u001b[1;32m26\u001b[0m\n\u001b[1;33m    name = ground_truth.loc[file_name, 'name']\u001b[0m\n\u001b[1;37m       ^\u001b[0m\n\u001b[1;31mIndentationError\u001b[0m\u001b[1;31m:\u001b[0m expected an indented block\n"
     ]
    }
   ],
   "source": [
    "'''\n",
    "data: Dictionary of data in the format {name of track: track data}\n",
    "\n",
    "      Track data is the pandas dataframe downloaded from PFMD.net \n",
    "      with an additional column \"truth_err\" that is the difference \n",
    "      between the ground truth and the measured value.\n",
    "\n",
    "      Name of track is the name given on PFMD.net (e.x. z_up_1).\n",
    "      Name of file refers to the name of the downloaded csv (e.x. 2022-04-12_18-15-47.csv)\n",
    "  \n",
    "ground_truth: Dataframe correlating file name, track name, and ground truth of the track.\n",
    "              The file name is the row index, and track name and ground truth are represented\n",
    "              as \"name\" and \"ground_truth\" respectively.\n",
    "'''\n",
    "\n",
    "data = {}\n",
    "ground_truth = pd.read_csv(PATH_TO_GROUND_TRUTH, index_col=0)\n",
    "\n",
    "for folder in os.listdir(PATH_TO_DATA):\n",
    "    print('Reading in data from ' + folder)\n",
    "    for file_name in os.listdir(PATH_TO_DATA + '/' + folder):\n",
    "        # Read in the track data\n",
    "        track = pd.read_csv(PATH_TO_DATA + '/' + folder + '/' + file_name)\n",
    "        # Get the track name\n",
    "        if file_name in ground_truth.index:\n",
    "            name = ground_truth.loc[file_name, 'name']\n",
    "            # Get the ground truth for the track\n",
    "            truth = ground_truth.loc[file_name, 'ground_truth']\n",
    "            # Find the ground truth axis\n",
    "            axis = name[0] + '_cm'\n",
    "            # Create a column of error from ground truth\n",
    "            track['truth_err'] = abs(track[axis] - (truth*100))\n",
    "\n",
    "            # # Filter our especially large error\n",
    "            # track = track[track['truth_err'] < 50]\n",
    "\n",
    "            # Store the track into the dictionary data\n",
    "            data[name] = track"
   ]
  }
 ],
 "metadata": {
  "kernelspec": {
   "display_name": "Python 3",
   "language": "python",
   "name": "python3"
  },
  "language_info": {
   "codemirror_mode": {
    "name": "ipython",
    "version": 3
   },
   "file_extension": ".py",
   "mimetype": "text/x-python",
   "name": "python",
   "nbconvert_exporter": "python",
   "pygments_lexer": "ipython3",
   "version": "3.7.6"
  }
 },
 "nbformat": 4,
 "nbformat_minor": 5
}
