{
 "cells": [
  {
   "cell_type": "code",
   "execution_count": 2,
   "id": "2d79c3fc",
   "metadata": {},
   "outputs": [],
   "source": [
    "import pandas as pd\n",
    "import os\n",
    "from matplotlib import pyplot as plt\n"
   ]
  },
  {
   "cell_type": "code",
   "execution_count": 17,
   "id": "a2330565",
   "metadata": {
    "scrolled": false
   },
   "outputs": [
    {
     "data": {
      "text/plain": [
       "<AxesSubplot:>"
      ]
     },
     "execution_count": 17,
     "metadata": {},
     "output_type": "execute_result"
    },
    {
     "data": {
      "image/png": "[encoded data removed]",
      "text/plain": [
       "<Figure size 432x288 with 1 Axes>"
      ]
     },
     "metadata": {
      "needs_background": "light"
     },
     "output_type": "display_data"
    }
   ],
   "source": [
    "directory = \"../pfmdData/\"\n",
    "path = 'rotator_brightness_126.csv'\n",
    "z_gt = 1.875 # ground truth\n",
    "curr = pd.read_csv(directory + path)\n",
    "for path in os.listdir(directory):\n",
    "    value = curr['z_cm'] - z_gt*100\n",
    "\n",
    "\n",
    "# rmse = (((curr[\"z_cm\"] - GROUND_TRUTH_Z)**2).mean())**(1/2)\n",
    "# print(\"RMSE (cm): \" + str(rmse))\n"
   ]
  },
  {
   "cell_type": "code",
   "execution_count": 15,
   "id": "9403d371",
   "metadata": {},
   "outputs": [
    {
     "data": {
      "text/plain": [
       "pandas.core.series.Series"
      ]
     },
     "execution_count": 15,
     "metadata": {},
     "output_type": "execute_result"
    }
   ],
   "source": [
    "\n"
   ]
  },
  {
   "cell_type": "code",
   "execution_count": null,
   "id": "da73c1da",
   "metadata": {},
   "outputs": [],
   "source": [
    "directory = \"./pfmdData/\"\n",
    "\n",
    "for path in os.listdir(directory):\n",
    "curr = pd.read_csv(directory + path)\n",
    "rmse = (((curr[\"z_cm\"] - GROUND_TRUTH_Z)**2).mean())**(1/2)\n",
    "print(\"RMSE (cm): \" + str(rmse))\n",
    "stats_dict[\"file name\"].append(path)\n",
    "stats_dict[\"z data\"].append(curr['z_cm'])\n",
    "stats_dict[\"z rmse\"].append(rmse)\n",
    "stats_dict[\"n\"].append(len(curr))\n",
    "\n",
    "stats_df = pd.DataFrame(stats_dict)\n",
    "count = len(stats_df)\n",
    "fig, axs = plt.subplots(count)\n",
    "\n",
    "for i in range(count):\n",
    "curr_data = stats_df.iloc[i]\n",
    "y_actual = curr_data[\"z data\"]\n",
    "y_pred = [GROUND_TRUTH_Z] * len(y_actual)\n",
    "x = [n for n in range(len(y_actual))]\n",
    "\n",
    "axs[i].plot(x, y_actual)\n",
    "axs[i].plot(x, y_pred)\n",
    "axs[i].set_title(curr_data[\"file name\"] + \n",
    "            \" with RMSE \" + \n",
    "            f'{curr_data[\"z rmse\"]:.3f}')\n",
    "axs[i].set_xlabel(\"sample\")\n",
    "axs[i].set_ylabel(\"z position (cm)\")\n",
    "fig.tight_layout()\n",
    "plt.show()\n"
   ]
  }
 ],
 "metadata": {
  "kernelspec": {
   "display_name": "Python 3",
   "language": "python",
   "name": "python3"
  },
  "language_info": {
   "codemirror_mode": {
    "name": "ipython",
    "version": 3
   },
   "file_extension": ".py",
   "mimetype": "text/x-python",
   "name": "python",
   "nbconvert_exporter": "python",
   "pygments_lexer": "ipython3",
   "version": "3.7.6"
  }
 },
 "nbformat": 4,
 "nbformat_minor": 5
}
