{
 "cells": [
  {
   "cell_type": "code",
   "execution_count": 8,
   "id": "e18ffe18",
   "metadata": {},
   "outputs": [],
   "source": [
    "import pandas as pd\n",
    "import numpy as np\n",
    "import os\n",
    "import matplotlib.pyplot as plt\n",
    "PATH_TO_DATA = \"../pfmdData/data_heatMap_3D\"\n",
    "PATH_TO_GROUND_TRUTH = \"../pfmdData/ground_truth_values.csv\""
   ]
  },
  {
   "cell_type": "code",
   "execution_count": 9,
   "id": "ad413dc7",
   "metadata": {},
   "outputs": [],
   "source": [
    "# Load file names\n",
    "ground_truth = pd.read_csv(PATH_TO_GROUND_TRUTH, index_col=0)\n",
    "names = np.array(ground_truth.index)"
   ]
  },
  {
   "cell_type": "markdown",
   "id": "8fcfd5ad",
   "metadata": {},
   "source": [
    "## Check duplicated file name"
   ]
  },
  {
   "cell_type": "code",
   "execution_count": 10,
   "id": "f8d5a509",
   "metadata": {},
   "outputs": [],
   "source": [
    " #Searches for duplicate element    \n",
    "for i in range(0, len(names)):    \n",
    "    for j in range(i+1, len(names)):   \n",
    "        if(names[i] == names[j]):    \n",
    "            print(\"Duplicate elements in given array: \")\n",
    "            print(names[j])\n",
    "            print(\"Duplicated indices\")\n",
    "            print(i,j)"
   ]
  },
  {
   "cell_type": "markdown",
   "id": "5260e73a",
   "metadata": {},
   "source": [
    "## Check all files exists"
   ]
  },
  {
   "cell_type": "code",
   "execution_count": 26,
   "id": "0a31daca",
   "metadata": {},
   "outputs": [
    {
     "data": {
      "text/plain": [
       "'z_up'"
      ]
     },
     "execution_count": 26,
     "metadata": {},
     "output_type": "execute_result"
    }
   ],
   "source": [
    "a = \"z_up_123\"\n",
    "temp = a.split(\"_\")\n",
    "temp[0] + \"_\" + temp[1]"
   ]
  },
  {
   "cell_type": "code",
   "execution_count": 28,
   "id": "c96c77f3",
   "metadata": {},
   "outputs": [
    {
     "ename": "NameError",
     "evalue": "name 'b' is not defined",
     "output_type": "error",
     "traceback": [
      "\u001b[1;31m---------------------------------------------------------------------------\u001b[0m",
      "\u001b[1;31mNameError\u001b[0m                                 Traceback (most recent call last)",
      "\u001b[1;32m<ipython-input-28-8f4b602f8a29>\u001b[0m in \u001b[0;36m<module>\u001b[1;34m\u001b[0m\n\u001b[0;32m      1\u001b[0m \u001b[0ma\u001b[0m \u001b[1;33m=\u001b[0m \u001b[1;36m1\u001b[0m\u001b[1;33m\u001b[0m\u001b[1;33m\u001b[0m\u001b[0m\n\u001b[1;32m----> 2\u001b[1;33m \u001b[0ma\u001b[0m \u001b[1;33m==\u001b[0m \u001b[0mb\u001b[0m\u001b[1;33m\u001b[0m\u001b[1;33m\u001b[0m\u001b[0m\n\u001b[0m",
      "\u001b[1;31mNameError\u001b[0m: name 'b' is not defined"
     ]
    }
   ],
   "source": [
    "a = 1\n",
    "a == b"
   ]
  },
  {
   "cell_type": "code",
   "execution_count": 50,
   "id": "958add77",
   "metadata": {},
   "outputs": [
    {
     "name": "stdout",
     "output_type": "stream",
     "text": [
      "missing file:  2022-04-22_22-22-58.csv\n",
      "corresponding track:  rotator_flipped_9\n",
      "missing file:  2022-04-22_23-01-49.csv\n",
      "corresponding track:  rotator_flipped_26\n",
      "\n",
      "---------directory not exist:  rotator_multitrack\n",
      "\n",
      "missing file:  2022-04-27_03-10-09.csv\n",
      "corresponding track:  z_down_12\n",
      "missing file:  2022-04-27_03-11-14.csv\n",
      "corresponding track:  z_down_13\n",
      "missing file:  2022-04-27_03-10-05.csv\n",
      "corresponding track:  z_down_14\n",
      "missing file:  2022-04-27_03-21-54.csv\n",
      "corresponding track:  z_down_15\n",
      "missing file:  2022-04-27_03-22-42.csv\n",
      "corresponding track:  z_down_16\n",
      "missing file:  2022-04-27_03-14-27.csv\n",
      "corresponding track:  z_down_17\n",
      "missing file:  2022-04-27_03-14-39.csv\n",
      "corresponding track:  z_down_18\n",
      "missing file:  2022-04-27_03-13-38.csv\n",
      "corresponding track:  z_down_19\n",
      "missing file:  2022-04-27_03-15-27.csv\n",
      "corresponding track:  z_down_20\n",
      "missing file:  2022-04-27_03-14-48.csv\n",
      "corresponding track:  z_down_21\n",
      "missing file:  2022-04-27_03-15-34.csv\n",
      "corresponding track:  z_down_22\n",
      "missing file:  2022-04-27_03-16-28.csv\n",
      "corresponding track:  z_down_23\n",
      "missing file:  2022-04-27_03-16-29.csv\n",
      "corresponding track:  z_down_24\n",
      "missing file:  2022-04-27_03-16-30.csv\n",
      "corresponding track:  z_down_25\n",
      "missing file:  2022-04-29_21-55-51.csv\n",
      "corresponding track:  z_neardown_27\n",
      "missing file:  2022-04-29_21-57-23.csv\n",
      "corresponding track:  z_neardown_28\n",
      "missing file:  2022-04-29_21-57-30.csv\n",
      "corresponding track:  z_neardown_29\n",
      "missing file:  2022-04-29_22-04-24.csv\n",
      "corresponding track:  z_neardown_30\n",
      "missing file:  2022-04-29_22-05-05.csv\n",
      "corresponding track:  z_neardown_32\n",
      "missing file:  2022-04-29_22-06-16.csv\n",
      "corresponding track:  z_neardown_33\n",
      "missing file:  2022-04-29_22-23-44.csv\n",
      "corresponding track:  z_neardown_34\n",
      "missing file:  2022-04-29_22-07-01.csv\n",
      "corresponding track:  z_neardown_35\n",
      "missing file:  2022-04-29_22-19-55.csv\n",
      "corresponding track:  z_neardown_36\n",
      "missing file:  2022-04-29_22-08-58.csv\n",
      "corresponding track:  z_neardown_37\n",
      "missing file:  2022-04-29_22-09-23.csv\n",
      "corresponding track:  z_neardown_38\n",
      "missing file:  2022-04-29_22-19-12.csv\n",
      "corresponding track:  z_neardown_39\n",
      "missing file:  2022-04-29_22-13-17.csv\n",
      "corresponding track:  z_nearup_1\n",
      "missing file:  2022-04-29_22-13-54.csv\n",
      "corresponding track:  z_nearup_2\n",
      "missing file:  2022-04-29_22-14-38.csv\n",
      "corresponding track:  z_nearup_3\n",
      "missing file:  2022-04-29_22-15-59.csv\n",
      "corresponding track:  z_nearup_4\n",
      "missing file:  2022-04-29_22-16-54.csv\n",
      "corresponding track:  z_nearup_5\n",
      "missing file:  2022-04-29_22-16-34.csv\n",
      "corresponding track:  z_nearup_6\n",
      "done\n"
     ]
    }
   ],
   "source": [
    "folder = ''\n",
    "# read data_files into a dictionary\n",
    "folders = os.listdir(PATH_TO_DATA)\n",
    "for file_name in ground_truth.index:\n",
    "    temp = ground_truth.loc[file_name, 'name']\n",
    "    temp = temp.split(\"_\")\n",
    "    track_case = temp[0]\n",
    "    for i in range(1,len(temp)-1):\n",
    "        track_case = track_case + '_' + temp[i] \n",
    "#     print('Current track case:  ', track_case)\n",
    "    # go into a folder and check if all tracks in that folder\n",
    "    try:\n",
    "        file_list = os.listdir(PATH_TO_DATA + '/' + track_case)\n",
    "        if file_name not in file_list:\n",
    "            print(\"missing file: \", file_name)\n",
    "            print(\"corresponding track: \", ground_truth.loc[file_name, 'name'])\n",
    "    except:\n",
    "        if(folder != track_case):\n",
    "            print(\"\\n---------directory not exist: \", track_case)\n",
    "            print()\n",
    "        folder = track_case\n",
    "\n",
    "print(\"done\")"
   ]
  }
 ],
 "metadata": {
  "kernelspec": {
   "display_name": "Python 3",
   "language": "python",
   "name": "python3"
  },
  "language_info": {
   "codemirror_mode": {
    "name": "ipython",
    "version": 3
   },
   "file_extension": ".py",
   "mimetype": "text/x-python",
   "name": "python",
   "nbconvert_exporter": "python",
   "pygments_lexer": "ipython3",
   "version": "3.7.6"
  }
 },
 "nbformat": 4,
 "nbformat_minor": 5
}
