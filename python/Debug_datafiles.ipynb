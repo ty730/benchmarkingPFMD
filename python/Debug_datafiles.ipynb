{
 "cells": [
  {
   "cell_type": "code",
   "execution_count": 60,
   "id": "c0efcec7",
   "metadata": {},
   "outputs": [],
   "source": [
    "import pandas as pd\n",
    "import numpy as np\n",
    "import os\n",
    "import matplotlib.pyplot as plt\n",
    "PATH_TO_DATA = \"../pfmdData/data_heatMap_3D\"\n",
    "PATH_TO_GROUND_TRUTH = \"../pfmdData/ground_truth_values.csv\""
   ]
  },
  {
   "cell_type": "code",
   "execution_count": 61,
   "id": "3a79cbbc",
   "metadata": {},
   "outputs": [],
   "source": [
    "# Load file names\n",
    "ground_truth = pd.read_csv(PATH_TO_GROUND_TRUTH, index_col=0)\n",
    "names = np.array(ground_truth.index)"
   ]
  },
  {
   "cell_type": "markdown",
   "id": "72aafb22",
   "metadata": {},
   "source": [
    "## Check duplicated file name"
   ]
  },
  {
   "cell_type": "code",
   "execution_count": 62,
   "id": "c8a3d3a6",
   "metadata": {},
   "outputs": [],
   "source": [
    " #Searches for duplicate element    \n",
    "for i in range(0, len(names)):    \n",
    "    for j in range(i+1, len(names)):   \n",
    "        if(names[i] == names[j]):    \n",
    "            print(\"Duplicate elements in given array: \")\n",
    "            print(names[j])\n",
    "            print(\"Duplicated indices\")\n",
    "            print(i,j)"
   ]
  },
  {
   "cell_type": "markdown",
   "id": "c5d32f1b",
   "metadata": {},
   "source": [
    "## Check all files exists"
   ]
  },
  {
   "cell_type": "code",
   "execution_count": 63,
   "id": "bebb1eac",
   "metadata": {},
   "outputs": [
    {
     "name": "stdout",
     "output_type": "stream",
     "text": [
      "missing file:  2022-04-22_22-22-58.csv\n",
      "corresponding track:  rotator_flipped_9\n",
      "missing file:  2022-04-22_23-01-49.csv\n",
      "corresponding track:  rotator_flipped_26\n",
      "missing file:  2022-04-27_03-10-09.csv\n",
      "corresponding track:  z_down_12\n",
      "missing file:  2022-04-27_03-11-14.csv\n",
      "corresponding track:  z_down_13\n",
      "missing file:  2022-04-27_03-10-05.csv\n",
      "corresponding track:  z_down_14\n",
      "missing file:  2022-04-27_03-21-54.csv\n",
      "corresponding track:  z_down_15\n",
      "missing file:  2022-04-27_03-22-42.csv\n",
      "corresponding track:  z_down_16\n",
      "missing file:  2022-04-27_03-14-27.csv\n",
      "corresponding track:  z_down_17\n",
      "missing file:  2022-04-27_03-14-39.csv\n",
      "corresponding track:  z_down_18\n",
      "missing file:  2022-04-27_03-13-38.csv\n",
      "corresponding track:  z_down_19\n",
      "missing file:  2022-04-27_03-15-27.csv\n",
      "corresponding track:  z_down_20\n",
      "missing file:  2022-04-27_03-14-48.csv\n",
      "corresponding track:  z_down_21\n",
      "missing file:  2022-04-27_03-15-34.csv\n",
      "corresponding track:  z_down_22\n",
      "missing file:  2022-04-27_03-16-28.csv\n",
      "corresponding track:  z_down_23\n",
      "missing file:  2022-04-27_03-16-29.csv\n",
      "corresponding track:  z_down_24\n",
      "missing file:  2022-04-27_03-16-30.csv\n",
      "corresponding track:  z_down_25\n",
      "done\n"
     ]
    }
   ],
   "source": [
    "folder = ''\n",
    "# read data_files into a dictionary\n",
    "folders = os.listdir(PATH_TO_DATA)\n",
    "for file_name in ground_truth.index:\n",
    "    temp = ground_truth.loc[file_name, 'name']\n",
    "    temp = temp.split(\"_\")\n",
    "    track_case = temp[0]\n",
    "    for i in range(1,len(temp)-1):\n",
    "        track_case = track_case + '_' + temp[i] \n",
    "#     print('Current track case:  ', track_case)\n",
    "    # go into a folder and check if all tracks in that folder\n",
    "    try:\n",
    "        file_list = os.listdir(PATH_TO_DATA + '/' + track_case)\n",
    "        if file_name not in file_list:\n",
    "            print(\"missing file: \", file_name)\n",
    "            print(\"corresponding track: \", ground_truth.loc[file_name, 'name'])\n",
    "    except:\n",
    "        if(folder != track_case):\n",
    "            print(\"\\n---------directory not exist: \", track_case)\n",
    "            print()\n",
    "        folder = track_case\n",
    "\n",
    "print(\"done\")"
   ]
  },
  {
   "cell_type": "code",
   "execution_count": null,
   "id": "501ee6bc",
   "metadata": {},
   "outputs": [],
   "source": []
  }
 ],
 "metadata": {
  "kernelspec": {
   "display_name": "Python 3",
   "language": "python",
   "name": "python3"
  },
  "language_info": {
   "codemirror_mode": {
    "name": "ipython",
    "version": 3
   },
   "file_extension": ".py",
   "mimetype": "text/x-python",
   "name": "python",
   "nbconvert_exporter": "python",
   "pygments_lexer": "ipython3",
   "version": "3.7.6"
  }
 },
 "nbformat": 4,
 "nbformat_minor": 5
}
