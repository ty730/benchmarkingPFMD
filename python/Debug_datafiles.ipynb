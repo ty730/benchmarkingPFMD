{
 "cells": [
  {
   "cell_type": "code",
   "execution_count": 29,
   "id": "c0efcec7",
   "metadata": {},
   "outputs": [],
   "source": [
    "import pandas as pd\n",
    "import numpy as np\n",
    "import os\n",
    "import matplotlib.pyplot as plt\n",
    "PATH_TO_DATA = \"../pfmdData/data_heatMap_3D\"\n",
    "PATH_TO_GROUND_TRUTH = \"../pfmdData/ground_truth_values.csv\""
   ]
  },
  {
   "cell_type": "code",
   "execution_count": 30,
   "id": "3a79cbbc",
   "metadata": {},
   "outputs": [],
   "source": [
    "# Load file names\n",
    "ground_truth = pd.read_csv(PATH_TO_GROUND_TRUTH, index_col=0)\n",
    "names = np.array(ground_truth.index)"
   ]
  },
  {
   "cell_type": "markdown",
   "id": "72aafb22",
   "metadata": {},
   "source": [
    "## Check duplicated file name"
   ]
  },
  {
   "cell_type": "code",
   "execution_count": 31,
   "id": "c8a3d3a6",
   "metadata": {},
   "outputs": [],
   "source": [
    " #Searches for duplicate element    \n",
    "for i in range(0, len(names)):    \n",
    "    for j in range(i+1, len(names)):   \n",
    "        if(names[i] == names[j]):    \n",
    "            print(\"Duplicate elements in given array: \")\n",
    "            print(names[j])\n",
    "            print(\"Duplicated indices\")\n",
    "            print(i,j)"
   ]
  },
  {
   "cell_type": "markdown",
   "id": "c5d32f1b",
   "metadata": {},
   "source": [
    "## Check all files exists"
   ]
  },
  {
   "cell_type": "code",
   "execution_count": 35,
   "id": "bebb1eac",
   "metadata": {},
   "outputs": [
    {
     "name": "stdout",
     "output_type": "stream",
     "text": [
      "done: no file missing\n"
     ]
    }
   ],
   "source": [
    "folder = ''\n",
    "# read data_files into a dictionary\n",
    "folders = os.listdir(PATH_TO_DATA)\n",
    "for file_name in ground_truth.index:\n",
    "#     print(file_name)\n",
    "    temp = ground_truth.loc[file_name, 'name']\n",
    "#     print(temp)\n",
    "    temp = temp.split(\"_\")\n",
    "    track_case = temp[0]\n",
    "    for i in range(1,len(temp)-1):\n",
    "        track_case = track_case + '_' + temp[i] \n",
    "#     print('Current track case:  ', track_case)\n",
    "    # go into a folder and check if all tracks in that folder\n",
    "    try:\n",
    "        file_list = os.listdir(PATH_TO_DATA + '/' + track_case)\n",
    "        if file_name not in file_list:\n",
    "            print(\"missing file: \", file_name)\n",
    "            print(\"corresponding track: \", ground_truth.loc[file_name, 'name'])\n",
    "    except:\n",
    "        if(folder != track_case):\n",
    "            print(\"\\n---------directory not exist: \", track_case)\n",
    "            print()\n",
    "        folder = track_case\n",
    "\n",
    "print(\"done: no file missing\")"
   ]
  },
  {
   "cell_type": "code",
   "execution_count": null,
   "id": "501ee6bc",
   "metadata": {},
   "outputs": [],
   "source": []
  }
 ],
 "metadata": {
  "kernelspec": {
   "display_name": "Python 3",
   "language": "python",
   "name": "python3"
  },
  "language_info": {
   "codemirror_mode": {
    "name": "ipython",
    "version": 3
   },
   "file_extension": ".py",
   "mimetype": "text/x-python",
   "name": "python",
   "nbconvert_exporter": "python",
   "pygments_lexer": "ipython3",
   "version": "3.7.6"
  }
 },
 "nbformat": 4,
 "nbformat_minor": 5
}
